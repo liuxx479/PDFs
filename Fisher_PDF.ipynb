{
 "cells": [
  {
   "cell_type": "code",
   "execution_count": 1,
   "metadata": {
    "collapsed": true
   },
   "outputs": [],
   "source": [
    "from scipy import *\n",
    "import numpy as np\n",
    "import WLanalysis\n",
    "from matplotlib import pyplot"
   ]
  },
  {
   "cell_type": "code",
   "execution_count": 2,
   "metadata": {
    "collapsed": true
   },
   "outputs": [],
   "source": [
    "from matplotlib.patches import Ellipse\n",
    "def plotEllipse(pos,P,edge,ls,ilabel,ax):\n",
    "    '''plot the contour for covariance p\n",
    "    where position is the center position\n",
    "    p is the covariance [2,2] matirx'''\n",
    "    U, s, Vh = svd(P) \n",
    "    orient = math.atan2(U[1,0],U[0,0])*180/pi\n",
    "    ellipsePlot = Ellipse(xy=pos, width=2.0*math.sqrt(s[0]), \n",
    "                          height=2.0*math.sqrt(s[1]), angle=orient,edgecolor=edge, fill = 0, label=ilabel,ls=ls,linewidth=1.5)\n",
    "    ax.add_patch(ellipsePlot)\n",
    "    return ellipsePlot"
   ]
  },
  {
   "cell_type": "code",
   "execution_count": 3,
   "metadata": {
    "collapsed": true
   },
   "outputs": [],
   "source": [
    "def Fisher(covI, der, skyscaling= 1.0 ):\n",
    "    '''\n",
    "    Input: \n",
    "    covariance inverse matrix (Nbin, Nbin)\n",
    "    derivatives (Nparams, Nbin), where Nparams is the number of parameters \n",
    "    skyscaling = area_sims / area_actual_survey = 12.25/2e4 for our sim and LSST\n",
    "    Return the Fisher matrix\n",
    "    '''\n",
    "    Nparams, Nbin = der.shape\n",
    "    F = zeros( shape= (Nparams, Nparams))\n",
    "    for i in range(Nparams):\n",
    "        for j in range(Nparams):\n",
    "            dA, dB = der[i], der[j]\n",
    "            Mij = mat(dA).T*mat(dB) + mat(dB).T*mat(dA)  \n",
    "            F [i,j]= 0.5*trace(covI*Mij)\n",
    "    F /= skyscaling\n",
    "    Ferr = real(sqrt(mat(F).I)) [range(Nparams), range(Nparams)]\n",
    "    return F, Ferr"
   ]
  },
  {
   "cell_type": "code",
   "execution_count": 8,
   "metadata": {
    "collapsed": false
   },
   "outputs": [
    {
     "name": "stdout",
     "output_type": "stream",
     "text": [
      "(3, 2, 3)\n",
      "parameters used for derivatives:\n",
      "[ 0.0975  0.3     2.1   ] [ 0.1025  0.3     2.1   ] 0.005\n",
      "[ 0.1     0.2925  2.1   ] [ 0.1     0.3075  2.1   ] 0.015\n",
      "[ 0.1     0.3     2.0475] [ 0.1     0.3     2.1525] 0.105\n"
     ]
    }
   ],
   "source": [
    "########### generate parameters for all models for emulator\n",
    "########### also generate parameters for fisher derivatives\n",
    "\n",
    "params = genfromtxt('cosmo_params_all.txt',usecols=[2,3,4])\n",
    "\n",
    "ir = 0.05\n",
    "\n",
    "fidu_params = (0.1, 0.3, 2.1)\n",
    "params_der = array( [[[0.1*(1.0-ir/2), 0.3, 2.1],[0.1*(1.0+ir/2), 0.3, 2.1]] ,\n",
    "                    [[0.1, 0.3*(1.0-ir/2), 2.1],[0.1, 0.3*(1.0+ir/2), 2.1]] ,\n",
    "                    [[0.1, 0.3, 2.1*(1.0-ir/2)],[0.1, 0.3, 2.1*(1.0+ir/2)]]] )\n",
    "print params_der.shape\n",
    "\n",
    "print 'parameters used for derivatives:'\n",
    "for i in range(3):\n",
    "    print params_der[i][0], params_der[i][1], fidu_params[i]*ir"
   ]
  },
  {
   "cell_type": "code",
   "execution_count": null,
   "metadata": {
    "collapsed": true
   },
   "outputs": [],
   "source": []
  }
 ],
 "metadata": {
  "kernelspec": {
   "display_name": "Python [default]",
   "language": "python",
   "name": "python2"
  },
  "language_info": {
   "codemirror_mode": {
    "name": "ipython",
    "version": 2
   },
   "file_extension": ".py",
   "mimetype": "text/x-python",
   "name": "python",
   "nbconvert_exporter": "python",
   "pygments_lexer": "ipython2",
   "version": "2.7.12"
  }
 },
 "nbformat": 4,
 "nbformat_minor": 1
}
