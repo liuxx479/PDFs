{
 "cells": [
  {
   "cell_type": "code",
   "execution_count": 1,
   "metadata": {
    "collapsed": true
   },
   "outputs": [],
   "source": [
    "from scipy import *\n",
    "import numpy as np\n",
    "import WLanalysis\n",
    "from matplotlib import pyplot"
   ]
  },
  {
   "cell_type": "code",
   "execution_count": 226,
   "metadata": {
    "collapsed": false
   },
   "outputs": [],
   "source": [
    "Ngrid = 50\n",
    "Nk = '5kb'\n",
    "param_range = [[0,0.35],[0.28, 0.32],[1.9,2.3]]"
   ]
  },
  {
   "cell_type": "code",
   "execution_count": 227,
   "metadata": {
    "collapsed": false
   },
   "outputs": [
    {
     "data": {
      "text/plain": [
       "(3, 125000)"
      ]
     },
     "execution_count": 227,
     "metadata": {},
     "output_type": "execute_result"
    }
   ],
   "source": [
    "Chi2_arr = load('likelihood/prob_{0}_N{1}.npy'.format(Nk, Ngrid)).T\n",
    "Chi2_arr.shape"
   ]
  },
  {
   "cell_type": "code",
   "execution_count": 228,
   "metadata": {
    "collapsed": false
   },
   "outputs": [],
   "source": [
    "def plane_margin (chi2cube,Ngrid=Ngrid,x=23):\n",
    "    prob = exp(-0.5*chi2cube).reshape(Ngrid, Ngrid, Ngrid)\n",
    "    #prob /= sum(prob[~isnan(prob)])\n",
    "    return [sum(prob,axis=i) for i in range(3)]\n",
    "    #return prob[x],prob[:,x],prob[:,:,x]"
   ]
  },
  {
   "cell_type": "code",
   "execution_count": 231,
   "metadata": {
    "collapsed": false
   },
   "outputs": [
    {
     "data": {
      "image/png": "[encoded data removed]",
      "text/plain": [
       "<matplotlib.figure.Figure at 0x111fa4110>"
      ]
     },
     "metadata": {},
     "output_type": "display_data"
    }
   ],
   "source": [
    "f,axes=subplots(1,3,figsize=(12,3.5))\n",
    "extents = ([param_range[1],param_range[2]],[param_range[0],param_range[2]],[param_range[0],param_range[1]])\n",
    "labeles0 = ('Mnu','omega_m','As')\n",
    "labels = ([labeles0[1],labeles0[2]],[labeles0[0],labeles0[2]],[labeles0[0],labeles0[1]])\n",
    "i=0\n",
    "for iP in plane_margin (Chi2_arr[2],x=ix):\n",
    "    axes[i].imshow(iP.T,origin='lower',extent= array(extents[i]).flatten(),aspect='auto',interpolation='nearest')\n",
    "    axes[i].set_xlabel(labels[i][0])\n",
    "    axes[i].set_ylabel(labels[i][1])\n",
    "    i+=1\n",
    "plt.tight_layout()\n",
    "#savefig('likelihood/test_%i.jpg'%(ix))\n",
    "#close()\n",
    "show()"
   ]
  },
  {
   "cell_type": "code",
   "execution_count": 201,
   "metadata": {
    "collapsed": false
   },
   "outputs": [
    {
     "name": "stderr",
     "output_type": "stream",
     "text": [
      "ERROR: ValueError: total size of new array must be unchanged [IPython.core.interactiveshell]\n"
     ]
    },
    {
     "ename": "ValueError",
     "evalue": "total size of new array must be unchanged",
     "output_type": "error",
     "traceback": [
      "\u001b[0;31m---------------------------------------------------------------------------\u001b[0m",
      "\u001b[0;31mValueError\u001b[0m                                Traceback (most recent call last)",
      "\u001b[0;32m<ipython-input-201-59975fadfa01>\u001b[0m in \u001b[0;36m<module>\u001b[0;34m()\u001b[0m\n\u001b[1;32m      7\u001b[0m \u001b[0mi\u001b[0m\u001b[0;34m=\u001b[0m\u001b[0;36m0\u001b[0m\u001b[0;34m\u001b[0m\u001b[0m\n\u001b[1;32m      8\u001b[0m \u001b[0;32mfor\u001b[0m \u001b[0miP\u001b[0m \u001b[0;32min\u001b[0m \u001b[0mparams_list\u001b[0m\u001b[0;34m.\u001b[0m\u001b[0mT\u001b[0m\u001b[0;34m:\u001b[0m\u001b[0;34m\u001b[0m\u001b[0m\n\u001b[0;32m----> 9\u001b[0;31m     \u001b[0mx\u001b[0m\u001b[0;34m=\u001b[0m\u001b[0mmean\u001b[0m\u001b[0;34m(\u001b[0m\u001b[0miP\u001b[0m\u001b[0;34m.\u001b[0m\u001b[0mreshape\u001b[0m\u001b[0;34m(\u001b[0m\u001b[0mNgrid\u001b[0m\u001b[0;34m,\u001b[0m \u001b[0mNgrid\u001b[0m\u001b[0;34m,\u001b[0m \u001b[0mNgrid\u001b[0m\u001b[0;34m)\u001b[0m\u001b[0;34m,\u001b[0m\u001b[0maxis\u001b[0m\u001b[0;34m=\u001b[0m\u001b[0mi\u001b[0m\u001b[0;34m)\u001b[0m\u001b[0;34m\u001b[0m\u001b[0m\n\u001b[0m\u001b[1;32m     10\u001b[0m     \u001b[0maxes\u001b[0m\u001b[0;34m[\u001b[0m\u001b[0mi\u001b[0m\u001b[0;34m]\u001b[0m\u001b[0;34m.\u001b[0m\u001b[0mimshow\u001b[0m\u001b[0;34m(\u001b[0m\u001b[0mx\u001b[0m\u001b[0;34m,\u001b[0m\u001b[0morigin\u001b[0m\u001b[0;34m=\u001b[0m\u001b[0;34m'lower'\u001b[0m\u001b[0;34m,\u001b[0m\u001b[0mextent\u001b[0m\u001b[0;34m=\u001b[0m \u001b[0marray\u001b[0m\u001b[0;34m(\u001b[0m\u001b[0mextents\u001b[0m\u001b[0;34m[\u001b[0m\u001b[0mi\u001b[0m\u001b[0;34m]\u001b[0m\u001b[0;34m)\u001b[0m\u001b[0;34m.\u001b[0m\u001b[0mflatten\u001b[0m\u001b[0;34m(\u001b[0m\u001b[0;34m)\u001b[0m\u001b[0;34m,\u001b[0m\u001b[0maspect\u001b[0m\u001b[0;34m=\u001b[0m\u001b[0;34m'auto'\u001b[0m\u001b[0;34m)\u001b[0m\u001b[0;34m\u001b[0m\u001b[0m\n\u001b[1;32m     11\u001b[0m     \u001b[0mi\u001b[0m\u001b[0;34m+=\u001b[0m\u001b[0;36m1\u001b[0m\u001b[0;34m\u001b[0m\u001b[0m\n",
      "\u001b[0;31mValueError\u001b[0m: total size of new array must be unchanged"
     ]
    }
   ],
   "source": [
    "Ngrid =50 \n",
    "param_range = [[0,0.35],[0.28, 0.32],[1.9,2.3]]\n",
    "param_arr = [linspace(param_range[i][0],param_range[i][1],Ngrid) for i in range(3)]\n",
    "param_list = array(meshgrid(param_arr[0],param_arr[1],param_arr[2],indexing='ij')).reshape(3,-1).T\n",
    "\n",
    "f,axes=subplots(1,3,figsize=(12,3.5))\n",
    "i=0\n",
    "for iP in params_list.T:\n",
    "    x=mean(iP.reshape(Ngrid, Ngrid, Ngrid),axis=i)\n",
    "    axes[i].imshow(x,origin='lower',extent= array(extents[i]).flatten(),aspect='auto')\n",
    "    i+=1\n",
    "plt.tight_layout()\n",
    "show()"
   ]
  },
  {
   "cell_type": "code",
   "execution_count": 204,
   "metadata": {
    "collapsed": false
   },
   "outputs": [
    {
     "data": {
      "text/plain": [
       "((9240,), 125000, (50,))"
      ]
     },
     "execution_count": 204,
     "metadata": {},
     "output_type": "execute_result"
    }
   ],
   "source": [
    "iP.shape, Ngrid**3, param_arr[0].shape"
   ]
  },
  {
   "cell_type": "code",
   "execution_count": 143,
   "metadata": {
    "collapsed": false
   },
   "outputs": [
    {
     "data": {
      "text/plain": [
       "array([ 0.        ,  0.01842105,  0.03684211,  0.05526316,  0.07368421,\n",
       "        0.09210526,  0.11052632,  0.12894737,  0.14736842,  0.16578947,\n",
       "        0.18421053,  0.20263158,  0.22105263,  0.23947368,  0.25789474,\n",
       "        0.27631579,  0.29473684,  0.31315789,  0.33157895,  0.35      ])"
      ]
     },
     "execution_count": 143,
     "metadata": {},
     "output_type": "execute_result"
    }
   ],
   "source": [
    "param_list.T[0].reshape(Ngrid,Ngrid+1,Ngrid+2)[:,1,2]"
   ]
  },
  {
   "cell_type": "code",
   "execution_count": 144,
   "metadata": {
    "collapsed": false
   },
   "outputs": [
    {
     "data": {
      "text/plain": [
       "array([ 0.28 ,  0.282,  0.284,  0.286,  0.288,  0.29 ,  0.292,  0.294,\n",
       "        0.296,  0.298,  0.3  ,  0.302,  0.304,  0.306,  0.308,  0.31 ,\n",
       "        0.312,  0.314,  0.316,  0.318,  0.32 ])"
      ]
     },
     "execution_count": 144,
     "metadata": {},
     "output_type": "execute_result"
    }
   ],
   "source": [
    "param_list.T[1].reshape(Ngrid,Ngrid+1,Ngrid+2)[1,:,2]"
   ]
  },
  {
   "cell_type": "code",
   "execution_count": 145,
   "metadata": {
    "collapsed": false
   },
   "outputs": [
    {
     "data": {
      "text/plain": [
       "array([ 1.9       ,  1.91904762,  1.93809524,  1.95714286,  1.97619048,\n",
       "        1.9952381 ,  2.01428571,  2.03333333,  2.05238095,  2.07142857,\n",
       "        2.09047619,  2.10952381,  2.12857143,  2.14761905,  2.16666667,\n",
       "        2.18571429,  2.2047619 ,  2.22380952,  2.24285714,  2.26190476,\n",
       "        2.28095238,  2.3       ])"
      ]
     },
     "execution_count": 145,
     "metadata": {},
     "output_type": "execute_result"
    }
   ],
   "source": [
    "param_list.T[2].reshape(Ngrid,Ngrid+1,Ngrid+2)[1,2,:]"
   ]
  },
  {
   "cell_type": "code",
   "execution_count": 155,
   "metadata": {
    "collapsed": false
   },
   "outputs": [
    {
     "data": {
      "image/png": "[encoded data removed]",
      "text/plain": [
       "<matplotlib.figure.Figure at 0x1139cae90>"
      ]
     },
     "metadata": {},
     "output_type": "display_data"
    }
   ],
   "source": [
    "imshow(rand(3,10),aspect='auto',interpolation='nearest')\n",
    "show()"
   ]
  },
  {
   "cell_type": "code",
   "execution_count": null,
   "metadata": {
    "collapsed": true
   },
   "outputs": [],
   "source": []
  },
  {
   "cell_type": "code",
   "execution_count": null,
   "metadata": {
    "collapsed": true
   },
   "outputs": [],
   "source": []
  }
 ],
 "metadata": {
  "anaconda-cloud": {},
  "kernelspec": {
   "display_name": "Python [default]",
   "language": "python",
   "name": "python2"
  },
  "language_info": {
   "codemirror_mode": {
    "name": "ipython",
    "version": 2
   },
   "file_extension": ".py",
   "mimetype": "text/x-python",
   "name": "python",
   "nbconvert_exporter": "python",
   "pygments_lexer": "ipython2",
   "version": "2.7.12"
  }
 },
 "nbformat": 4,
 "nbformat_minor": 1
}
