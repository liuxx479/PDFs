{
 "cells": [
  {
   "cell_type": "code",
   "execution_count": 1,
   "metadata": {
    "collapsed": true
   },
   "outputs": [],
   "source": [
    "from scipy import *\n",
    "import numpy as np\n",
    "import WLanalysis\n",
    "from matplotlib import pyplot"
   ]
  },
  {
   "cell_type": "code",
   "execution_count": 13,
   "metadata": {
    "collapsed": false
   },
   "outputs": [],
   "source": [
    "z_arr = arange(0.5,3,0.5)\n",
    "eb_dir = 'stats_avg/output_eb_5000_s4/'\n",
    "\n",
    "###### power spectrum\n",
    "psI = array( [load(eb_dir+'ALL_igalXigal_z{0}_z{0}_10k.npy'.format(iz)) for iz in z_arr])\n",
    "psI5ka = array( [load(eb_dir+'ALL_igalXigal_z{0}_z{0}_5ka.npy'.format(iz)) for iz in z_arr])\n",
    "psI5kb = array( [load(eb_dir+'ALL_igalXigal_z{0}_z{0}_5kb.npy'.format(iz)) for iz in z_arr])\n",
    "\n",
    "##### 1d PDF\n",
    "pdf1dI = array([load(eb_dir+'ALL_igal_pdf_z{0}_sg1.0_10k.npy'.format(iz)) for iz in z_arr])\n",
    "pdf1dN = array( [load(eb_dir+'ALL_gal_pdf_z{0}_sg1.0_10k.npy'.format(iz)) for iz in z_arr])\n",
    "\n",
    "pdf1dI5ka = array( [load(eb_dir+'ALL_igal_pdf_z{0}_sg1.0_5ka.npy'.format(iz)) for iz in z_arr])\n",
    "pdf1dN5ka = array( [load(eb_dir+'ALL_gal_pdf_z{0}_sg1.0_5ka.npy'.format(iz)) for iz in z_arr])\n",
    "\n",
    "pdf1dI5kb = array( [load(eb_dir+'ALL_igal_pdf_z{0}_sg1.0_5kb.npy'.format(iz)) for iz in z_arr])\n",
    "pdf1dN5kb = array( [load(eb_dir+'ALL_gal_pdf_z{0}_sg1.0_5kb.npy'.format(iz)) for iz in z_arr])\n",
    "\n",
    "#### 2d PDF\n",
    "pdf2dI = array( [load(eb_dir+'ALL_igalXigal_2dpdf_z{0}_z{1}_sg1.0_10k.npy'.format(z_arr[i],z_arr[j])) \n",
    "                 for i in range(5) for j in range(i,5)])\n",
    "pdf2dN = array( [load(eb_dir+'ALL_galXgal_2dpdf_z{0}_z{1}_sg1.0_10k.npy'.format(z_arr[i],z_arr[j])) \n",
    "                 for i in range(5) for j in range(i,5)])"
   ]
  },
  {
   "cell_type": "code",
   "execution_count": 14,
   "metadata": {
    "collapsed": false
   },
   "outputs": [
    {
     "name": "stdout",
     "output_type": "stream",
     "text": [
      "(5, 101, 20) (5, 101, 40) (15, 101, 40, 40)\n"
     ]
    }
   ],
   "source": [
    "print psI.shape, pdf1dI.shape, pdf2dI.shape"
   ]
  },
  {
   "cell_type": "code",
   "execution_count": 15,
   "metadata": {
    "collapsed": true
   },
   "outputs": [],
   "source": [
    "ell = WLanalysis.edge2center(linspace(100,5000,21))\n",
    "kcenter_gal = WLanalysis.edge2center(linspace(-3,5,41))\n",
    "kcenter_cmb = WLanalysis.edge2center(linspace(-3,3,31))"
   ]
  },
  {
   "cell_type": "code",
   "execution_count": null,
   "metadata": {
    "collapsed": true
   },
   "outputs": [],
   "source": []
  }
 ],
 "metadata": {
  "anaconda-cloud": {},
  "kernelspec": {
   "display_name": "Python [default]",
   "language": "python",
   "name": "python2"
  },
  "language_info": {
   "codemirror_mode": {
    "name": "ipython",
    "version": 2
   },
   "file_extension": ".py",
   "mimetype": "text/x-python",
   "name": "python",
   "nbconvert_exporter": "python",
   "pygments_lexer": "ipython2",
   "version": "2.7.12"
  }
 },
 "nbformat": 4,
 "nbformat_minor": 1
}
